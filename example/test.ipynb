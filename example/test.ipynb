{
 "cells": [
  {
   "cell_type": "code",
   "execution_count": 1,
   "id": "b2657920-9bc3-432f-913e-c8f4c2534cf5",
   "metadata": {},
   "outputs": [
    {
     "name": "stdout",
     "output_type": "stream",
     "text": [
      "wrote file test.c\n",
      "$> gcc   test.c    -o test\n",
      "$> ./test \n",
      "Hello World!"
     ]
    }
   ],
   "source": [
    "////test.c\n",
    "#include <stdio.h>\n",
    "\n",
    "int main(){\n",
    "    printf(\"Hello World!\");\n",
    "    return 0;\n",
    "}"
   ]
  },
  {
   "cell_type": "code",
   "execution_count": 1,
   "id": "22d7c839-08b4-4f9c-8df8-48fd169496b8",
   "metadata": {},
   "outputs": [
    {
     "name": "stdout",
     "output_type": "stream",
     "text": [
      "Hello World!"
     ]
    }
   ],
   "source": [
    "%%bash\n",
    "    ./test"
   ]
  }
 ],
 "metadata": {
  "kernelspec": {
   "display_name": "C/C++",
   "language": "",
   "name": "ckernel"
  },
  "language_info": {
   "codemirror_mode": "text/x-csrc",
   "name": "c"
  }
 },
 "nbformat": 4,
 "nbformat_minor": 5
}
